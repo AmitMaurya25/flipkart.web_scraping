{
 "cells": [
  {
   "cell_type": "code",
   "execution_count": 39,
   "id": "2d1f3134-5764-4e6b-bb0f-fbb73030845c",
   "metadata": {},
   "outputs": [],
   "source": [
    "import requests\n",
    "from bs4 import BeautifulSoup as bs\n",
    "from urllib.request import urlopen\n",
    "import logging"
   ]
  },
  {
   "cell_type": "code",
   "execution_count": 40,
   "id": "7ba3c0da-b1c7-4300-92bb-beedca358770",
   "metadata": {},
   "outputs": [],
   "source": [
    "amazon_in  = \"https://www.flipkart.com/search?q=\"  + \"washingmachine\""
   ]
  },
  {
   "cell_type": "code",
   "execution_count": 41,
   "id": "a978cadb-1bac-40f5-a860-3fc1c6c125fd",
   "metadata": {},
   "outputs": [
    {
     "data": {
      "text/plain": [
       "'https://www.flipkart.com/search?q=washingmachine'"
      ]
     },
     "execution_count": 41,
     "metadata": {},
     "output_type": "execute_result"
    }
   ],
   "source": [
    "amazon_in"
   ]
  },
  {
   "cell_type": "code",
   "execution_count": 42,
   "id": "597d59f0-bedf-473d-9edf-c37548f38e14",
   "metadata": {},
   "outputs": [],
   "source": [
    "urlclient = urlopen(amazon_in)"
   ]
  },
  {
   "cell_type": "code",
   "execution_count": 43,
   "id": "288c06fb-3d08-4e9f-b394-5381f6f7d33a",
   "metadata": {},
   "outputs": [
    {
     "data": {
      "text/plain": [
       "<http.client.HTTPResponse at 0x7f2131629840>"
      ]
     },
     "execution_count": 43,
     "metadata": {},
     "output_type": "execute_result"
    }
   ],
   "source": [
    "urlclient"
   ]
  },
  {
   "cell_type": "code",
   "execution_count": 44,
   "id": "a6fd2474-fdc5-4183-aa17-39aaedbd029e",
   "metadata": {},
   "outputs": [],
   "source": [
    "amazon_page = urlclient.read()"
   ]
  },
  {
   "cell_type": "code",
   "execution_count": 45,
   "id": "e359aa1a-a5f7-40a1-8600-501cde3f5ea7",
   "metadata": {},
   "outputs": [],
   "source": [
    "amazom_html = bs(amazon_page , 'html.parser')"
   ]
  },
  {
   "cell_type": "code",
   "execution_count": 46,
   "id": "e424176d-e154-45c4-a22e-79440d042b75",
   "metadata": {},
   "outputs": [],
   "source": [
    "bigbox = amazom_html.findAll('div', {'class': \"_1AtVbE col-12-12\"})"
   ]
  },
  {
   "cell_type": "code",
   "execution_count": 47,
   "id": "687ef923-bbe4-4088-b048-ede57172e601",
   "metadata": {},
   "outputs": [
    {
     "data": {
      "text/plain": [
       "30"
      ]
     },
     "execution_count": 47,
     "metadata": {},
     "output_type": "execute_result"
    }
   ],
   "source": [
    "len(bigbox)"
   ]
  },
  {
   "cell_type": "code",
   "execution_count": 48,
   "id": "7ed68ae8-f785-417e-bd73-209c8cb36728",
   "metadata": {},
   "outputs": [],
   "source": [
    "del bigbox[0:3]"
   ]
  },
  {
   "cell_type": "code",
   "execution_count": 49,
   "id": "a21c1155-1af5-4d45-a79a-79caf4bab259",
   "metadata": {},
   "outputs": [],
   "source": [
    "product_line = \"https://www.flipkart.com\" + bigbox[1].div.div.div.a[\"href\"]"
   ]
  },
  {
   "cell_type": "code",
   "execution_count": 50,
   "id": "aaf075a0-1fa3-42ac-b779-375e1fc6f6ed",
   "metadata": {},
   "outputs": [
    {
     "data": {
      "text/plain": [
       "'https://www.flipkart.com/marq-flipkart-6-kg-5-star-rating-semi-automatic-top-load-washing-machine-white-maroon/p/itm125a12d8f3fef?pid=WMNFMKPKZYYJAQWD&lid=LSTWMNFMKPKZYYJAQWD0RGH7K&marketplace=FLIPKART&q=washingmachine&store=j9e%2Fabm%2F8qx&srno=s_1_3&otracker=search&fm=organic&iid=4d08b9d0-9f47-49f8-a051-473f056f4f8f.WMNFMKPKZYYJAQWD.SEARCH&ppt=None&ppn=None&ssid=kzj1t4tmls0000001687925121342&qH=a571f4db750e946c'"
      ]
     },
     "execution_count": 50,
     "metadata": {},
     "output_type": "execute_result"
    }
   ],
   "source": [
    "product_line"
   ]
  },
  {
   "cell_type": "code",
   "execution_count": 51,
   "id": "4b3836f2-6362-4fff-8be8-bbcc19615445",
   "metadata": {},
   "outputs": [],
   "source": [
    "product_req = requests.get(product_line)"
   ]
  },
  {
   "cell_type": "code",
   "execution_count": null,
   "id": "82567eb9-34ed-42da-8a91-76dad1fc1db7",
   "metadata": {},
   "outputs": [],
   "source": []
  },
  {
   "cell_type": "code",
   "execution_count": 63,
   "id": "4a2ac0d1-04f4-4d32-8f4c-1461bf96572b",
   "metadata": {},
   "outputs": [],
   "source": [
    "products_html = bs(product_req.text, 'html.parser')"
   ]
  },
  {
   "cell_type": "code",
   "execution_count": 64,
   "id": "fc7445e0-5e0e-4623-b335-4194e1e1b159",
   "metadata": {},
   "outputs": [],
   "source": [
    "comment_box = products_html.findAll(\"div\",{\"class\":\"_16PBlm\"})"
   ]
  },
  {
   "cell_type": "code",
   "execution_count": 65,
   "id": "f510c31e-f2e5-4b97-a6e6-ac0de43722a7",
   "metadata": {},
   "outputs": [
    {
     "data": {
      "text/plain": [
       "'Mind-blowing purchase'"
      ]
     },
     "execution_count": 65,
     "metadata": {},
     "output_type": "execute_result"
    }
   ],
   "source": [
    "comment_box[0].div.div.findAll(\"p\",{ \"class\":\"_2-N8zT\"})[0].text"
   ]
  },
  {
   "cell_type": "code",
   "execution_count": 66,
   "id": "f49d8f6c-0d54-45c9-b6df-e28fdd7066aa",
   "metadata": {},
   "outputs": [
    {
     "name": "stdout",
     "output_type": "stream",
     "text": [
      "Mind-blowing purchase\n",
      "Classy product\n",
      "Mind-blowing purchase\n",
      "Wonderful\n",
      "Delightful\n",
      "Mind-blowing purchase\n",
      "Brilliant\n",
      "Classy product\n",
      "Super!\n",
      "Delightful\n"
     ]
    },
    {
     "ename": "AttributeError",
     "evalue": "'NoneType' object has no attribute 'div'",
     "output_type": "error",
     "traceback": [
      "\u001b[0;31m---------------------------------------------------------------------------\u001b[0m",
      "\u001b[0;31mAttributeError\u001b[0m                            Traceback (most recent call last)",
      "Cell \u001b[0;32mIn[66], line 2\u001b[0m\n\u001b[1;32m      1\u001b[0m \u001b[38;5;28;01mfor\u001b[39;00m i \u001b[38;5;129;01min\u001b[39;00m comment_box: \u001b[38;5;66;03m# for the comments headers\u001b[39;00m\n\u001b[0;32m----> 2\u001b[0m     \u001b[38;5;28mprint\u001b[39m(\u001b[43mi\u001b[49m\u001b[38;5;241;43m.\u001b[39;49m\u001b[43mdiv\u001b[49m\u001b[38;5;241;43m.\u001b[39;49m\u001b[43mdiv\u001b[49m\u001b[38;5;241m.\u001b[39mfindAll(\u001b[38;5;124m\"\u001b[39m\u001b[38;5;124mp\u001b[39m\u001b[38;5;124m\"\u001b[39m,{ \u001b[38;5;124m\"\u001b[39m\u001b[38;5;124mclass\u001b[39m\u001b[38;5;124m\"\u001b[39m:\u001b[38;5;124m\"\u001b[39m\u001b[38;5;124m_2-N8zT\u001b[39m\u001b[38;5;124m\"\u001b[39m})[\u001b[38;5;241m0\u001b[39m]\u001b[38;5;241m.\u001b[39mtext)\n",
      "\u001b[0;31mAttributeError\u001b[0m: 'NoneType' object has no attribute 'div'"
     ]
    }
   ],
   "source": [
    "for i in comment_box: # for the comments headers\n",
    "    print(i.div.div.findAll(\"p\",{ \"class\":\"_2-N8zT\"})[0].text)"
   ]
  },
  {
   "cell_type": "code",
   "execution_count": 67,
   "id": "91d24949-6b76-484f-b56e-527acaf57a9b",
   "metadata": {},
   "outputs": [
    {
     "data": {
      "text/plain": [
       "'5'"
      ]
     },
     "execution_count": 67,
     "metadata": {},
     "output_type": "execute_result"
    }
   ],
   "source": [
    "comment_box[0].div.div.div.div.text"
   ]
  },
  {
   "cell_type": "code",
   "execution_count": 68,
   "id": "df557509-e2e4-468a-b925-6a8c39ec444e",
   "metadata": {},
   "outputs": [
    {
     "name": "stdout",
     "output_type": "stream",
     "text": [
      "5\n",
      "5\n",
      "5\n",
      "4\n",
      "4\n",
      "5\n",
      "5\n",
      "5\n",
      "5\n",
      "4\n"
     ]
    },
    {
     "ename": "AttributeError",
     "evalue": "'NoneType' object has no attribute 'div'",
     "output_type": "error",
     "traceback": [
      "\u001b[0;31m---------------------------------------------------------------------------\u001b[0m",
      "\u001b[0;31mAttributeError\u001b[0m                            Traceback (most recent call last)",
      "Cell \u001b[0;32mIn[68], line 2\u001b[0m\n\u001b[1;32m      1\u001b[0m \u001b[38;5;28;01mfor\u001b[39;00m i  \u001b[38;5;129;01min\u001b[39;00m comment_box:\u001b[38;5;66;03m# rating for the project\u001b[39;00m\n\u001b[0;32m----> 2\u001b[0m        \u001b[38;5;28mprint\u001b[39m(\u001b[43mi\u001b[49m\u001b[38;5;241;43m.\u001b[39;49m\u001b[43mdiv\u001b[49m\u001b[38;5;241;43m.\u001b[39;49m\u001b[43mdiv\u001b[49m\u001b[38;5;241m.\u001b[39mdiv\u001b[38;5;241m.\u001b[39mdiv\u001b[38;5;241m.\u001b[39mtext)\n",
      "\u001b[0;31mAttributeError\u001b[0m: 'NoneType' object has no attribute 'div'"
     ]
    }
   ],
   "source": [
    " for i  in comment_box:# rating for the project\n",
    "        print(i.div.div.div.div.text)\n",
    "    "
   ]
  },
  {
   "cell_type": "code",
   "execution_count": 69,
   "id": "3ac17e1b-87b7-4c78-bbb9-6fada1af4233",
   "metadata": {},
   "outputs": [
    {
     "data": {
      "text/plain": [
       "\"Very good product and very simple using by a normal people and it's means easy to use it.. I love it a lot.. thank you Flipkart and obviously your delivery is to good.. I'm really impressed your survice...thank you so much...READ MORE\""
      ]
     },
     "execution_count": 69,
     "metadata": {},
     "output_type": "execute_result"
    }
   ],
   "source": [
    "comment_box[0].div.div.findAll(\"div\",{\"class\":\"\"})[0].text"
   ]
  },
  {
   "cell_type": "code",
   "execution_count": 70,
   "id": "a27ee272-5f2a-4581-b812-da1eac580047",
   "metadata": {},
   "outputs": [
    {
     "name": "stdout",
     "output_type": "stream",
     "text": [
      "Very good product and very simple using by a normal people and it's means easy to use it.. I love it a lot.. thank you Flipkart and obviously your delivery is to good.. I'm really impressed your survice...thank you so much...READ MORE\n",
      "As per Mony value very useful and good Product using more than Double family washing clothes,Very Nice Flipkart such a make this offer, overall I m & my family happy for use. operate function available in very smart easy.Thank you again Flipkart team for promt day Delivered at Home location with Good Condition।।READ MORE\n",
      "Machine wash perfectly both normal or delicate mode and dryer also work very smoothly thank you Flipkart for washing machine at this price and deliver very fast.READ MORE\n",
      "After Use of More than a week, I can strongly recommend this. Motor for Both Bath tub & Spinner is perfectly fine & Strong enough to take load of more than 10kg.Overall deign is very good. Height from bottom is enough & in any case the water will not even touch the Motor bottom.Simply go for it. It's Value for money in this Price range.READ MORE\n",
      "Good according to the price... Size little small.. looking so cute.. sufficient for small families.plastic quality is not as per expection.. but dought to be a 6 kg.. looks 5 kg and below.. 5 star.... Rating is superbREAD MORE\n",
      "*Update after 6 Months :Working as fine as mentioned below. No issues. A must buy for those who are careful with maintaining household machines. Excellent Performance. Reviewing after 3 weeks. The Performance and cleansing is almost same as other popular Branded semi automatic machines around 10-15k. The Motor is powerful enough for the Weight mentioned. Noise is minimal. Would definitely recommend if in search of a Budget+ Normal Use for a small family.The One and Only Cons is the plasti...READ MORE\n",
      "Best machine as per priceDelivery boys are very good and very much cooperative for deliveryI humbly want to say thank you Flipkart andDelivery boysThank you very muchIam very happy with this machineREAD MORE\n",
      "I am writing this review after one week of use when I show first time I am not happy with the quality of material but after one week of use I am fully satisfied with this brand I will recommend this and very low budget it's a Very nice washing machine it's also save light bill.READ MORE\n",
      "Veey nice product..nice performance at a good price.i recommend it highly for small family of 2 or 3... very happy with it...go.for it without any 2nd thought.READ MORE\n",
      "Its a good machine if you are 2 or 3 people..In this price range i would suggest to buy it, just that sometimes machine makes noise  which scares me out maybe because of overloading, but otherwise it works good ,the dryer performance is outstanding,it makes clothes dry 70 to 80% which is a steal deal..Just be careful while putting clothes in the wash tub, don't  put a whole set of clothes at once, simple put them one by one . Good deal ❣️READ MORE\n"
     ]
    },
    {
     "ename": "AttributeError",
     "evalue": "'NoneType' object has no attribute 'div'",
     "output_type": "error",
     "traceback": [
      "\u001b[0;31m---------------------------------------------------------------------------\u001b[0m",
      "\u001b[0;31mAttributeError\u001b[0m                            Traceback (most recent call last)",
      "Cell \u001b[0;32mIn[70], line 2\u001b[0m\n\u001b[1;32m      1\u001b[0m \u001b[38;5;28;01mfor\u001b[39;00m i \u001b[38;5;129;01min\u001b[39;00m comment_box:\u001b[38;5;66;03m# main comment box\u001b[39;00m\n\u001b[0;32m----> 2\u001b[0m     \u001b[38;5;28mprint\u001b[39m(\u001b[43mi\u001b[49m\u001b[38;5;241;43m.\u001b[39;49m\u001b[43mdiv\u001b[49m\u001b[38;5;241;43m.\u001b[39;49m\u001b[43mdiv\u001b[49m\u001b[38;5;241m.\u001b[39mfindAll(\u001b[38;5;124m\"\u001b[39m\u001b[38;5;124mdiv\u001b[39m\u001b[38;5;124m\"\u001b[39m,{\u001b[38;5;124m\"\u001b[39m\u001b[38;5;124mclass\u001b[39m\u001b[38;5;124m\"\u001b[39m:\u001b[38;5;124m\"\u001b[39m\u001b[38;5;124m\"\u001b[39m})[\u001b[38;5;241m0\u001b[39m]\u001b[38;5;241m.\u001b[39mtext)\n",
      "\u001b[0;31mAttributeError\u001b[0m: 'NoneType' object has no attribute 'div'"
     ]
    }
   ],
   "source": [
    "for i in comment_box:# main comment box\n",
    "    print(i.div.div.findAll(\"div\",{\"class\":\"\"})[0].text)"
   ]
  },
  {
   "cell_type": "code",
   "execution_count": 71,
   "id": "16371a0f-7b0a-45be-b99a-a0ddfd492c30",
   "metadata": {},
   "outputs": [
    {
     "data": {
      "text/plain": [
       "'Laxmi Ram'"
      ]
     },
     "execution_count": 71,
     "metadata": {},
     "output_type": "execute_result"
    }
   ],
   "source": [
    "comment_box[0].div.div.findAll(\"p\",{\"class\": \"_2sc7ZR\"})[0].text"
   ]
  },
  {
   "cell_type": "code",
   "execution_count": 72,
   "id": "b4ef8f54-ef47-4877-b0f5-8503d247e3a4",
   "metadata": {},
   "outputs": [
    {
     "name": "stdout",
     "output_type": "stream",
     "text": [
      "Laxmi Ram\n",
      "RAJESH  KUMAR\n",
      "Priyanka Jaiswara\n",
      "Arunabh Singh\n",
      "Deepak kumar\n",
      "Ajay Krishna Shet\n",
      "Dr Tabassum  Mulani \n",
      "Vishal Mer\n",
      "minakshi Mishra\n",
      "Mansi Sharma\n"
     ]
    },
    {
     "ename": "AttributeError",
     "evalue": "'NoneType' object has no attribute 'div'",
     "output_type": "error",
     "traceback": [
      "\u001b[0;31m---------------------------------------------------------------------------\u001b[0m",
      "\u001b[0;31mAttributeError\u001b[0m                            Traceback (most recent call last)",
      "Cell \u001b[0;32mIn[72], line 2\u001b[0m\n\u001b[1;32m      1\u001b[0m \u001b[38;5;28;01mfor\u001b[39;00m i \u001b[38;5;129;01min\u001b[39;00m comment_box:\n\u001b[0;32m----> 2\u001b[0m     \u001b[38;5;28mprint\u001b[39m(\u001b[43mi\u001b[49m\u001b[38;5;241;43m.\u001b[39;49m\u001b[43mdiv\u001b[49m\u001b[38;5;241;43m.\u001b[39;49m\u001b[43mdiv\u001b[49m\u001b[38;5;241m.\u001b[39mfindAll(\u001b[38;5;124m\"\u001b[39m\u001b[38;5;124mp\u001b[39m\u001b[38;5;124m\"\u001b[39m,{\u001b[38;5;124m\"\u001b[39m\u001b[38;5;124mclass\u001b[39m\u001b[38;5;124m\"\u001b[39m: \u001b[38;5;124m\"\u001b[39m\u001b[38;5;124m_2sc7ZR\u001b[39m\u001b[38;5;124m\"\u001b[39m})[\u001b[38;5;241m0\u001b[39m]\u001b[38;5;241m.\u001b[39mtext)\n",
      "\u001b[0;31mAttributeError\u001b[0m: 'NoneType' object has no attribute 'div'"
     ]
    }
   ],
   "source": [
    "for i in comment_box:\n",
    "    print(i.div.div.findAll(\"p\",{\"class\": \"_2sc7ZR\"})[0].text)"
   ]
  },
  {
   "cell_type": "code",
   "execution_count": null,
   "id": "8a966b4b-f6fd-4129-977f-c3c4ba71df55",
   "metadata": {},
   "outputs": [],
   "source": []
  },
  {
   "cell_type": "code",
   "execution_count": null,
   "id": "4fb8b57d-82b6-416f-8734-5be067db50fa",
   "metadata": {},
   "outputs": [],
   "source": []
  },
  {
   "cell_type": "code",
   "execution_count": null,
   "id": "dd0cee49-d659-40d0-ac66-8a88908ccdcb",
   "metadata": {},
   "outputs": [],
   "source": []
  }
 ],
 "metadata": {
  "kernelspec": {
   "display_name": "Python 3 (ipykernel)",
   "language": "python",
   "name": "python3"
  },
  "language_info": {
   "codemirror_mode": {
    "name": "ipython",
    "version": 3
   },
   "file_extension": ".py",
   "mimetype": "text/x-python",
   "name": "python",
   "nbconvert_exporter": "python",
   "pygments_lexer": "ipython3",
   "version": "3.10.8"
  }
 },
 "nbformat": 4,
 "nbformat_minor": 5
}
